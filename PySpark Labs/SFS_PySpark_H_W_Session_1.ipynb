{
  "cells": [
    {
      "cell_type": "markdown",
      "metadata": {
        "id": "IK1nI-VcQEUw"
      },
      "source": [
        "# PySpark H.W Session 1\n",
        "\n"
      ]
    },
    {
      "cell_type": "markdown",
      "metadata": {
        "id": "KBrsJ9WgQEU0"
      },
      "source": [
        "Let's get some quick practice with your new Spark DataFrame skills, you will be asked some basic questions about some stock market data, in this case Walmart Stock from the years 2012-2017. This exercise will just ask a bunch of questions, unlike the future machine learning exercises, which will be a little looser and be in the form of \"Consulting Projects\", but more on that later!\n",
        "\n",
        "For now, just answer the questions and complete the tasks below."
      ]
    },
    {
      "cell_type": "markdown",
      "metadata": {
        "id": "klOLe4_bQEU3"
      },
      "source": [
        "#### Use the walmart_stock.csv file to Answer and complete the  tasks below!"
      ]
    },
    {
      "cell_type": "markdown",
      "metadata": {
        "id": "pBTm6mJjQEU4"
      },
      "source": [
        "#### Start a simple Spark Session"
      ]
    },
    {
      "cell_type": "code",
      "execution_count": 1,
      "metadata": {
        "collapsed": true,
        "id": "AFIdTSZaQEU6"
      },
      "outputs": [],
      "source": [
        "from pyspark.sql import SparkSession"
      ]
    },
    {
      "cell_type": "code",
      "execution_count": 2,
      "metadata": {},
      "outputs": [
        {
          "name": "stderr",
          "output_type": "stream",
          "text": [
            "22/06/17 01:14:38 WARN Utils: Your hostname, sam-pc resolves to a loopback address: 127.0.1.1; using 192.168.1.3 instead (on interface wlp2s0)\n",
            "22/06/17 01:14:38 WARN Utils: Set SPARK_LOCAL_IP if you need to bind to another address\n",
            "Using Spark's default log4j profile: org/apache/spark/log4j-defaults.properties\n",
            "Setting default log level to \"WARN\".\n",
            "To adjust logging level use sc.setLogLevel(newLevel). For SparkR, use setLogLevel(newLevel).\n",
            "22/06/17 01:14:53 WARN NativeCodeLoader: Unable to load native-hadoop library for your platform... using builtin-java classes where applicable\n",
            "22/06/17 01:15:00 WARN Utils: Service 'SparkUI' could not bind on port 4040. Attempting port 4041.\n",
            "22/06/17 01:15:00 WARN Utils: Service 'SparkUI' could not bind on port 4041. Attempting port 4042.\n"
          ]
        }
      ],
      "source": [
        "spark = SparkSession.builder.appName('assign1').getOrCreate()"
      ]
    },
    {
      "cell_type": "markdown",
      "metadata": {
        "id": "_SvK1u-xQEU7"
      },
      "source": [
        "#### Load the Walmart Stock CSV File, have Spark infer the data types."
      ]
    },
    {
      "cell_type": "code",
      "execution_count": 3,
      "metadata": {
        "collapsed": true,
        "id": "PFufNumHQEU8"
      },
      "outputs": [
        {
          "name": "stderr",
          "output_type": "stream",
          "text": [
            "                                                                                \r"
          ]
        }
      ],
      "source": [
        "stock = spark.read.option(\"timestampFormat\", \"yyyy-MM-dd\").csv('walmart_stock.csv', inferSchema=True, header=True)"
      ]
    },
    {
      "cell_type": "markdown",
      "metadata": {
        "id": "EWyuYG3HQEU9"
      },
      "source": [
        "#### What are the column names?"
      ]
    },
    {
      "cell_type": "code",
      "execution_count": 4,
      "metadata": {
        "id": "HqoXRFGuQEU-",
        "outputId": "41c6a83b-8efe-4174-accb-50d9bb1852f8"
      },
      "outputs": [
        {
          "data": {
            "text/plain": [
              "['Date', 'Open', 'High', 'Low', 'Close', 'Volume', 'Adj Close']"
            ]
          },
          "execution_count": 4,
          "metadata": {},
          "output_type": "execute_result"
        }
      ],
      "source": [
        "stock.columns"
      ]
    },
    {
      "cell_type": "markdown",
      "metadata": {
        "id": "IF87H3r1QEU_"
      },
      "source": [
        "#### What does the Schema look like?"
      ]
    },
    {
      "cell_type": "code",
      "execution_count": 5,
      "metadata": {
        "id": "FaM8KQGTQEU_",
        "outputId": "c4fb9566-c093-49dc-de42-a9a382011617"
      },
      "outputs": [
        {
          "name": "stdout",
          "output_type": "stream",
          "text": [
            "root\n",
            " |-- Date: timestamp (nullable = true)\n",
            " |-- Open: double (nullable = true)\n",
            " |-- High: double (nullable = true)\n",
            " |-- Low: double (nullable = true)\n",
            " |-- Close: double (nullable = true)\n",
            " |-- Volume: integer (nullable = true)\n",
            " |-- Adj Close: double (nullable = true)\n",
            "\n"
          ]
        }
      ],
      "source": [
        "stock.printSchema()"
      ]
    },
    {
      "cell_type": "markdown",
      "metadata": {
        "id": "ixYkVStcQEVA"
      },
      "source": [
        "#### Print out the first 5 columns."
      ]
    },
    {
      "cell_type": "code",
      "execution_count": 6,
      "metadata": {},
      "outputs": [
        {
          "name": "stderr",
          "output_type": "stream",
          "text": [
            "                                                                                \r"
          ]
        },
        {
          "name": "stdout",
          "output_type": "stream",
          "text": [
            "Row(Date=datetime.datetime(2012, 1, 3, 0, 0), Open=59.970001, High=61.060001, Low=59.869999, Close=60.330002, Volume=12668800, Adj Close=52.619234999999996) \n",
            "\n",
            "Row(Date=datetime.datetime(2012, 1, 4, 0, 0), Open=60.209998999999996, High=60.349998, Low=59.470001, Close=59.709998999999996, Volume=9593300, Adj Close=52.078475) \n",
            "\n",
            "Row(Date=datetime.datetime(2012, 1, 5, 0, 0), Open=59.349998, High=59.619999, Low=58.369999, Close=59.419998, Volume=12768200, Adj Close=51.825539) \n",
            "\n",
            "Row(Date=datetime.datetime(2012, 1, 6, 0, 0), Open=59.419998, High=59.450001, Low=58.869999, Close=59.0, Volume=8069400, Adj Close=51.45922) \n",
            "\n",
            "Row(Date=datetime.datetime(2012, 1, 9, 0, 0), Open=59.029999, High=59.549999, Low=58.919998, Close=59.18, Volume=6679300, Adj Close=51.616215000000004) \n",
            "\n",
            "Row(Date=datetime.datetime(2012, 1, 10, 0, 0), Open=59.43, High=59.709998999999996, Low=58.98, Close=59.040001000000004, Volume=6907300, Adj Close=51.494109) \n",
            "\n"
          ]
        }
      ],
      "source": [
        "# stock.head(5)\n",
        "for idx in range(6):\n",
        "    print(stock.collect()[idx], '\\n')"
      ]
    },
    {
      "cell_type": "markdown",
      "metadata": {
        "id": "k5biK3B4QEVB"
      },
      "source": [
        "#### Use describe() to learn about the DataFrame."
      ]
    },
    {
      "cell_type": "code",
      "execution_count": 10,
      "metadata": {
        "id": "GulzXGneQEVB",
        "outputId": "56e0e78f-1258-412b-d26a-f01749a9e4c0"
      },
      "outputs": [
        {
          "name": "stdout",
          "output_type": "stream",
          "text": [
            "+-------+------------------+-----------------+-----------------+-----------------+-----------------+-----------------+\n",
            "|summary|              Open|             High|              Low|            Close|           Volume|        Adj Close|\n",
            "+-------+------------------+-----------------+-----------------+-----------------+-----------------+-----------------+\n",
            "|  count|              1258|             1258|             1258|             1258|             1258|             1258|\n",
            "|   mean| 72.35785375357709|72.83938807631165| 71.9186009594594|72.38844998012726|8222093.481717011|67.23883848728146|\n",
            "| stddev|  6.76809024470826|6.768186808159218|6.744075756255496|6.756859163732991|  4519780.8431556|6.722609449996857|\n",
            "|    min|56.389998999999996|        57.060001|        56.299999|        56.419998|          2094900|        50.363689|\n",
            "|    max|         90.800003|        90.970001|            89.25|        90.470001|         80898100|84.91421600000001|\n",
            "+-------+------------------+-----------------+-----------------+-----------------+-----------------+-----------------+\n",
            "\n"
          ]
        }
      ],
      "source": [
        "des_tb = stock.describe()\n",
        "des_tb.show()"
      ]
    },
    {
      "cell_type": "markdown",
      "metadata": {
        "id": "p1nK57i1QEVC"
      },
      "source": [
        "## Bonus Question!\n",
        "#### There are too many decimal places for mean and stddev in the describe() dataframe. Format the numbers to just show up to two decimal places. Pay careful attention to the datatypes that .describe() returns, we didn't cover how to do this exact formatting, but we covered something very similar. [Check this link for a hint](http://spark.apache.org/docs/latest/api/python/pyspark.sql.html#pyspark.sql.Column.cast)\n",
        "\n",
        "If you get stuck on this, don't worry, just view the solutions."
      ]
    },
    {
      "cell_type": "code",
      "execution_count": 11,
      "metadata": {},
      "outputs": [
        {
          "name": "stdout",
          "output_type": "stream",
          "text": [
            "root\n",
            " |-- summary: string (nullable = true)\n",
            " |-- Open: string (nullable = true)\n",
            " |-- High: string (nullable = true)\n",
            " |-- Low: string (nullable = true)\n",
            " |-- Close: string (nullable = true)\n",
            " |-- Volume: string (nullable = true)\n",
            " |-- Adj Close: string (nullable = true)\n",
            "\n"
          ]
        }
      ],
      "source": [
        "des_tb.printSchema()"
      ]
    },
    {
      "cell_type": "code",
      "execution_count": 206,
      "metadata": {},
      "outputs": [],
      "source": [
        "from pyspark.sql.functions import col, format_number, max as maxFn, mean as meanFn, min as minFn, corr as corrFn, year as yearFn, month as monthFn\n",
        "from pyspark.sql.types import FloatType, IntegerType"
      ]
    },
    {
      "cell_type": "code",
      "execution_count": 84,
      "metadata": {
        "collapsed": true,
        "id": "vuKIj4WPQEVD"
      },
      "outputs": [
        {
          "name": "stdout",
          "output_type": "stream",
          "text": [
            "+-------+--------+--------+--------+--------+----------+\n",
            "|summary|    Open|    High|     Low|   Close|    Volume|\n",
            "+-------+--------+--------+--------+--------+----------+\n",
            "|  count|1,258.00|1,258.00|1,258.00|1,258.00|     1,258|\n",
            "|   mean|   72.36|   72.84|   71.92|   72.39| 8,222,093|\n",
            "| stddev|    6.77|    6.77|    6.74|    6.76| 4,519,780|\n",
            "|    min|   56.39|   57.06|   56.30|   56.42| 2,094,900|\n",
            "|    max|   90.80|   90.97|   89.25|   90.47|80,898,100|\n",
            "+-------+--------+--------+--------+--------+----------+\n",
            "\n"
          ]
        }
      ],
      "source": [
        "des_tb.select(\n",
        "      col('summary'),\n",
        "            format_number(col('Open').cast(FloatType()), 2).alias('Open'),\n",
        "            format_number(col('High').cast(FloatType()), 2).alias('High'),\n",
        "            format_number(col('Low').cast(FloatType()), 2).alias('Low'),\n",
        "            format_number(col('Close').cast(FloatType()), 2).alias('Close'),\n",
        "            format_number(col('Volume').cast(IntegerType()), 0).alias('Volume'))\\\n",
        "      .show()"
      ]
    },
    {
      "cell_type": "markdown",
      "metadata": {
        "id": "9MwLgnCSQEVD"
      },
      "source": [
        "#### Create a new dataframe with a column called HV Ratio that is the ratio of the High Price versus volume of stock traded for a day."
      ]
    },
    {
      "cell_type": "code",
      "execution_count": 85,
      "metadata": {},
      "outputs": [],
      "source": [
        "stock2 = stock.withColumn('HV', col('High')/col('Volume'))"
      ]
    },
    {
      "cell_type": "code",
      "execution_count": 93,
      "metadata": {},
      "outputs": [
        {
          "name": "stdout",
          "output_type": "stream",
          "text": [
            "+--------------------+\n",
            "|                  HV|\n",
            "+--------------------+\n",
            "|4.819714653321546E-6|\n",
            "|6.290848613094555E-6|\n",
            "|4.669412994783916E-6|\n",
            "|7.367338463826307E-6|\n",
            "|8.915604778943901E-6|\n",
            "|8.644477436914568E-6|\n",
            "|9.351828421515645E-6|\n",
            "| 8.29141562102703E-6|\n",
            "|7.712212102001476E-6|\n",
            "|7.071764823529412E-6|\n",
            "|1.015495466386981E-5|\n",
            "|6.576354146362592...|\n",
            "| 5.90145296180676E-6|\n",
            "|8.547679455011844E-6|\n",
            "|8.420709512685392E-6|\n",
            "|1.041448341728929...|\n",
            "|8.316075414862431E-6|\n",
            "|9.721183814992126E-6|\n",
            "|8.029436027707578E-6|\n",
            "|6.307432259386365E-6|\n",
            "+--------------------+\n",
            "only showing top 20 rows\n",
            "\n"
          ]
        }
      ],
      "source": [
        "stock2.select('HV').show()"
      ]
    },
    {
      "cell_type": "markdown",
      "metadata": {
        "id": "sfOdDUdCQEVE"
      },
      "source": [
        "#### What day had the Peak High in Price?"
      ]
    },
    {
      "cell_type": "code",
      "execution_count": 138,
      "metadata": {},
      "outputs": [
        {
          "name": "stdout",
          "output_type": "stream",
          "text": [
            "2015-01-13 00:00:00\n",
            "+-------------------+\n",
            "|               Date|\n",
            "+-------------------+\n",
            "|2015-01-13 00:00:00|\n",
            "+-------------------+\n",
            "\n"
          ]
        }
      ],
      "source": [
        "print(stock2.orderBy(col('High'),ascending=False).collect()[0][0])\n",
        "stock2.select('Date').where(f'High == {stock2.select(maxFn(\"High\")).collect()[0][0]}').show()"
      ]
    },
    {
      "cell_type": "markdown",
      "metadata": {
        "id": "z_RIIXHnQEVE"
      },
      "source": [
        "#### What is the mean of the Close column?"
      ]
    },
    {
      "cell_type": "code",
      "execution_count": 139,
      "metadata": {},
      "outputs": [
        {
          "name": "stdout",
          "output_type": "stream",
          "text": [
            "72.38844998012726\n",
            "+-----------------+\n",
            "|       avg(Close)|\n",
            "+-----------------+\n",
            "|72.38844998012726|\n",
            "+-----------------+\n",
            "\n"
          ]
        }
      ],
      "source": [
        "print(stock2.select(meanFn(\"Close\")).collect()[0][0])\n",
        "stock2.agg(meanFn('Close')).show()"
      ]
    },
    {
      "cell_type": "markdown",
      "metadata": {
        "id": "Z8V-r7I1QEVF"
      },
      "source": [
        "#### What is the max and min of the Volume column?"
      ]
    },
    {
      "cell_type": "code",
      "execution_count": 155,
      "metadata": {
        "collapsed": true,
        "id": "z5mrVE6WQEVF"
      },
      "outputs": [
        {
          "name": "stdout",
          "output_type": "stream",
          "text": [
            "max 80898100\n",
            "min 2094900\n",
            "+-----------+-----------+\n",
            "|max(Volume)|min(Volume)|\n",
            "+-----------+-----------+\n",
            "|   80898100|    2094900|\n",
            "+-----------+-----------+\n",
            "\n"
          ]
        }
      ],
      "source": [
        "print('max', stock2.orderBy(col('Volume'),ascending=False).collect()[0][5])\n",
        "print('min', stock2.orderBy(col('Volume'),ascending=True).collect()[0][5])\n",
        "\n",
        "stock2.agg(maxFn('Volume'), minFn('Volume')).show() #faster than above"
      ]
    },
    {
      "cell_type": "markdown",
      "metadata": {
        "id": "VT4RVThzQEVG"
      },
      "source": [
        "#### How many days was the Close lower than 60 dollars?"
      ]
    },
    {
      "cell_type": "code",
      "execution_count": 166,
      "metadata": {},
      "outputs": [
        {
          "name": "stdout",
          "output_type": "stream",
          "text": [
            "81\n",
            "81\n"
          ]
        }
      ],
      "source": [
        "print(stock2.select('Date').where('Close < 60').count())\n",
        "print(stock2.filter('Close < 60').count())"
      ]
    },
    {
      "cell_type": "markdown",
      "metadata": {
        "id": "7pqovtOeQEVG"
      },
      "source": [
        "#### What percentage of the time was the High greater than 80 dollars ?\n",
        "#### In other words, (Number of Days High>80)/(Total Days in the dataset)"
      ]
    },
    {
      "cell_type": "code",
      "execution_count": 169,
      "metadata": {},
      "outputs": [
        {
          "name": "stdout",
          "output_type": "stream",
          "text": [
            "9.141494435612083\n"
          ]
        }
      ],
      "source": [
        "print(stock2.filter('High > 80').count()/ stock2.count() * 100)"
      ]
    },
    {
      "cell_type": "markdown",
      "metadata": {
        "id": "hhggc4nrQEVH"
      },
      "source": [
        "#### What is the Pearson correlation between High and Volume?\n",
        "#### [Hint](http://spark.apache.org/docs/latest/api/python/pyspark.sql.html#pyspark.sql.DataFrameStatFunctions.corr)"
      ]
    },
    {
      "cell_type": "code",
      "execution_count": 182,
      "metadata": {},
      "outputs": [
        {
          "name": "stdout",
          "output_type": "stream",
          "text": [
            "-0.3384326061737161\n"
          ]
        }
      ],
      "source": [
        "print(stock2.corr('High', 'Volume'))"
      ]
    },
    {
      "cell_type": "markdown",
      "metadata": {
        "id": "5cUkJpW8QEVJ"
      },
      "source": [
        "#### What is the max High per year?"
      ]
    },
    {
      "cell_type": "code",
      "execution_count": 205,
      "metadata": {},
      "outputs": [
        {
          "name": "stdout",
          "output_type": "stream",
          "text": [
            "+----+---------+\n",
            "|Year|max(High)|\n",
            "+----+---------+\n",
            "|2015|90.970001|\n",
            "|2013|81.370003|\n",
            "|2014|88.089996|\n",
            "|2012|77.599998|\n",
            "|2016|75.190002|\n",
            "+----+---------+\n",
            "\n"
          ]
        }
      ],
      "source": [
        "yearOnly = stock2.withColumn(\"Year\",yearFn(col('Date')))\n",
        "yearOnly.groupBy('Year').max().select('Year','max(High)').show()"
      ]
    },
    {
      "cell_type": "markdown",
      "metadata": {
        "id": "Qzrj0hnQQEVK"
      },
      "source": [
        "#### What is the average Close for each Calendar Month?\n",
        "#### In other words, across all the years, what is the average Close price for Jan,Feb, Mar, etc... Your result will have a value for each of these months. "
      ]
    },
    {
      "cell_type": "code",
      "execution_count": 218,
      "metadata": {
        "id": "dCRHSQiJQEVK",
        "outputId": "e8688d22-090b-4b31-9d5e-dbc64196b4ba"
      },
      "outputs": [
        {
          "name": "stdout",
          "output_type": "stream",
          "text": [
            "+-----+-----------------+\n",
            "|Month|       avg(Close)|\n",
            "+-----+-----------------+\n",
            "|   12|72.84792478301885|\n",
            "|    1|71.44801958415842|\n",
            "|    6| 72.4953774245283|\n",
            "|    3|71.77794377570092|\n",
            "|    5|72.30971688679247|\n",
            "|    9|72.18411785294116|\n",
            "|    4|72.97361900952382|\n",
            "|    8|73.02981855454546|\n",
            "|    7|74.43971943925233|\n",
            "|   10|71.57854545454543|\n",
            "|   11| 72.1110893069307|\n",
            "|    2|  71.306804443299|\n",
            "+-----+-----------------+\n",
            "\n"
          ]
        }
      ],
      "source": [
        "monthOnly = stock2.withColumn('Month', monthFn(col('Date')))\n",
        "monthOnly.select('Month','Close').groupBy('Month').mean().select('Month','avg(Close)').show()"
      ]
    },
    {
      "cell_type": "code",
      "execution_count": null,
      "metadata": {},
      "outputs": [],
      "source": []
    }
  ],
  "metadata": {
    "anaconda-cloud": {},
    "colab": {
      "name": "PySpark H.W Session 1.ipynb",
      "provenance": []
    },
    "kernelspec": {
      "display_name": "Python 3.8.10 64-bit",
      "language": "python",
      "name": "python3"
    },
    "language_info": {
      "codemirror_mode": {
        "name": "ipython",
        "version": 3
      },
      "file_extension": ".py",
      "mimetype": "text/x-python",
      "name": "python",
      "nbconvert_exporter": "python",
      "pygments_lexer": "ipython3",
      "version": "3.8.10"
    },
    "vscode": {
      "interpreter": {
        "hash": "916dbcbb3f70747c44a77c7bcd40155683ae19c65e1c03b4aa3499c5328201f1"
      }
    }
  },
  "nbformat": 4,
  "nbformat_minor": 0
}

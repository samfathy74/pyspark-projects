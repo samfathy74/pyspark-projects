{
  "cells": [
    {
      "cell_type": "markdown",
      "id": "05f1e8db",
      "metadata": {
        "id": "05f1e8db"
      },
      "source": [
        "# **Labs 1 and 2 PySpark:**\n",
        "\n",
        "In these labs we will be using the \"[[NeurIPS 2020] Data Science for COVID-19 (DS4C)](https://www.kaggle.com/datasets/kimjihoo/coronavirusdataset?select=PatientInfo.csv)\" dataset, retrieved from [Kaggle](https://www.kaggle.com/) on 1/6/2022, for educational non commercial purpose, License\n",
        "[CC BY-NC-SA 4.0\n",
        "](https://creativecommons.org/licenses/by-nc-sa/4.0/)\n",
        "\n",
        "\n",
        "The csv file that we will be using in this lab is **PatientInfo**."
      ]
    },
    {
      "cell_type": "markdown",
      "id": "3ac9bbf0",
      "metadata": {
        "id": "3ac9bbf0"
      },
      "source": [
        "## PatientInfo.csv\n",
        "\n",
        "**patient_id**\n",
        "the ID of the patient\n",
        "\n",
        "**sex**\n",
        "the sex of the patient\n",
        "\n",
        "**age**\n",
        "the age of the patient\n",
        "\n",
        "**country**\n",
        "the country of the patient\n",
        "\n",
        "**province**\n",
        "the province of the patient\n",
        "\n",
        "**city**\n",
        "the city of the patient\n",
        "\n",
        "**infection_case**\n",
        "the case of infection\n",
        "\n",
        "**infected_by**\n",
        "the ID of who infected the patient\n",
        "\n",
        "\n",
        "**contact_number**\n",
        "the number of contacts with people\n",
        "\n",
        "**symptom_onset_date**\n",
        "the date of symptom onset\n",
        "\n",
        "**confirmed_date**\n",
        "the date of being confirmed\n",
        "\n",
        "**released_date**\n",
        "the date of being released\n",
        "\n",
        "**deceased_date**\n",
        "the date of being deceased\n",
        "\n",
        "**state**\n",
        "isolated / released / deceased"
      ]
    },
    {
      "cell_type": "code",
      "source": [
        "# !pip install pyspark"
      ],
      "metadata": {
        "id": "ypwY7mJ_YbzC"
      },
      "id": "ypwY7mJ_YbzC",
      "execution_count": null,
      "outputs": []
    },
    {
      "cell_type": "markdown",
      "id": "34b6f619",
      "metadata": {
        "id": "34b6f619"
      },
      "source": [
        "### Import the pyspark and check it's version"
      ]
    },
    {
      "cell_type": "code",
      "execution_count": 1,
      "id": "d5185728",
      "metadata": {
        "colab": {
          "base_uri": "https://localhost:8080/",
          "height": 17
        },
        "id": "d5185728",
        "outputId": "fc4d5b4e-6506-435b-8913-a5e5b565fb8e"
      },
      "outputs": [
        {
          "output_type": "display_data",
          "data": {
            "text/plain": [
              "<IPython.core.display.HTML object>"
            ],
            "text/html": [
              "<style>pre { white-space: pre !important; }</style>"
            ]
          },
          "metadata": {}
        }
      ],
      "source": [
        "from IPython.display import display, HTML\n",
        "display(HTML(\"<style>pre { white-space: pre !important; }</style>\"))"
      ]
    },
    {
      "cell_type": "markdown",
      "id": "70c0fc8e",
      "metadata": {
        "id": "70c0fc8e"
      },
      "source": [
        "### Import and create SparkSession"
      ]
    },
    {
      "cell_type": "code",
      "execution_count": 5,
      "id": "94904228",
      "metadata": {
        "id": "94904228"
      },
      "outputs": [],
      "source": [
        "from pyspark.sql import SparkSession\n",
        "from pyspark.sql.functions import col\n",
        "from pyspark.sql.types import IntegerType, DateType, BooleanType"
      ]
    },
    {
      "cell_type": "code",
      "execution_count": 6,
      "id": "5427e3cf",
      "metadata": {
        "id": "5427e3cf"
      },
      "outputs": [],
      "source": [
        "spark = SparkSession.builder.getOrCreate()"
      ]
    },
    {
      "cell_type": "markdown",
      "id": "7356d68d",
      "metadata": {
        "id": "7356d68d"
      },
      "source": [
        "### Load the PatientInfo.csv file and show the first 5 rows"
      ]
    },
    {
      "cell_type": "code",
      "execution_count": 7,
      "id": "7e9866ba",
      "metadata": {
        "id": "7e9866ba"
      },
      "outputs": [],
      "source": [
        "patient_df = spark.read.csv(\"PatientInfo.csv\", header=True, inferSchema=True)"
      ]
    },
    {
      "cell_type": "markdown",
      "source": [
        "### Cast Date from String to DateType"
      ],
      "metadata": {
        "id": "c4CWnhvAY_Fk"
      },
      "id": "c4CWnhvAY_Fk"
    },
    {
      "cell_type": "code",
      "execution_count": 8,
      "id": "e47ab669",
      "metadata": {
        "id": "e47ab669"
      },
      "outputs": [],
      "source": [
        "patient_df = patient_df.withColumn('confirmed_date', col('confirmed_date').cast(DateType()))\n",
        "patient_df = patient_df.withColumn('released_date', col('released_date').cast(DateType()))\n",
        "patient_df = patient_df.withColumn('deceased_date', col('deceased_date').cast(DateType()))\n",
        "patient_df = patient_df.withColumn('symptom_onset_date', col('symptom_onset_date').cast(DateType()))"
      ]
    },
    {
      "cell_type": "markdown",
      "id": "4d43bdca",
      "metadata": {
        "id": "4d43bdca"
      },
      "source": [
        "### Display the schema of the dataset"
      ]
    },
    {
      "cell_type": "code",
      "execution_count": 9,
      "id": "c51a2507",
      "metadata": {
        "colab": {
          "base_uri": "https://localhost:8080/"
        },
        "id": "c51a2507",
        "outputId": "9d6cd2ce-45b4-418b-e36e-7f2d09fad09d"
      },
      "outputs": [
        {
          "output_type": "stream",
          "name": "stdout",
          "text": [
            "root\n",
            " |-- patient_id: long (nullable = true)\n",
            " |-- sex: string (nullable = true)\n",
            " |-- age: string (nullable = true)\n",
            " |-- country: string (nullable = true)\n",
            " |-- province: string (nullable = true)\n",
            " |-- city: string (nullable = true)\n",
            " |-- infection_case: string (nullable = true)\n",
            " |-- infected_by: string (nullable = true)\n",
            " |-- contact_number: string (nullable = true)\n",
            " |-- symptom_onset_date: date (nullable = true)\n",
            " |-- confirmed_date: date (nullable = true)\n",
            " |-- released_date: date (nullable = true)\n",
            " |-- deceased_date: date (nullable = true)\n",
            " |-- state: string (nullable = true)\n",
            "\n"
          ]
        }
      ],
      "source": [
        "patient_df.printSchema()"
      ]
    },
    {
      "cell_type": "markdown",
      "id": "3114e1dd",
      "metadata": {
        "id": "3114e1dd"
      },
      "source": [
        "### Display the statistical summary"
      ]
    },
    {
      "cell_type": "code",
      "execution_count": 10,
      "id": "7e25a7c7",
      "metadata": {
        "colab": {
          "base_uri": "https://localhost:8080/"
        },
        "id": "7e25a7c7",
        "outputId": "b5beac13-9905-4747-a580-9c0f7e691f89"
      },
      "outputs": [
        {
          "output_type": "stream",
          "name": "stdout",
          "text": [
            "+-------+--------------------+------+----+----------+--------+--------------+--------------------+--------------------+--------------------+--------+\n",
            "|summary|          patient_id|   sex| age|   country|province|          city|      infection_case|         infected_by|      contact_number|   state|\n",
            "+-------+--------------------+------+----+----------+--------+--------------+--------------------+--------------------+--------------------+--------+\n",
            "|  count|                5165|  4043|3785|      5165|    5165|          5071|                4246|                1346|                 791|    5165|\n",
            "|   mean|2.8636345618679576E9|  null|null|      null|    null|          null|                null|2.2845944015643125E9|1.6772572523506988E7|    null|\n",
            "| stddev| 2.074210725277473E9|  null|null|      null|    null|          null|                null|1.5265072953383324E9| 3.093097580985502E8|    null|\n",
            "|    min|          1000000001|female|  0s|Bangladesh|   Busan|     Andong-si|Anyang Gunpo Past...|          1000000002|                   -|deceased|\n",
            "|    25%|          1000001291|  null|null|      null|    null|          null|                null|       1.400000102E9|                 2.0|    null|\n",
            "|    50%|          2000000369|  null|null|      null|    null|          null|                null|       2.000000167E9|                 4.0|    null|\n",
            "|    75%|          6001000115|  null|null|      null|    null|          null|                null|       2.000000975E9|                14.0|    null|\n",
            "|    max|          7000000019|  male| 90s|   Vietnam|   Ulsan|sankyeock-dong|     overseas inflow|          7000000009|                  95|released|\n",
            "+-------+--------------------+------+----+----------+--------+--------------+--------------------+--------------------+--------------------+--------+\n",
            "\n"
          ]
        }
      ],
      "source": [
        "patient_df.summary().show()"
      ]
    },
    {
      "cell_type": "markdown",
      "id": "c78859b9",
      "metadata": {
        "id": "c78859b9"
      },
      "source": [
        "### Using the state column.\n",
        "### How many people survived (released), and how many didn't survive (isolated/deceased)?"
      ]
    },
    {
      "cell_type": "code",
      "execution_count": 11,
      "id": "63e84045",
      "metadata": {
        "colab": {
          "base_uri": "https://localhost:8080/"
        },
        "id": "63e84045",
        "outputId": "8b2b4135-3d09-4a28-d8e6-6ee1e0ba7ed9"
      },
      "outputs": [
        {
          "output_type": "stream",
          "name": "stdout",
          "text": [
            "+--------+-----+\n",
            "|   state|count|\n",
            "+--------+-----+\n",
            "|isolated| 2158|\n",
            "|released| 2929|\n",
            "|deceased|   78|\n",
            "+--------+-----+\n",
            "\n"
          ]
        }
      ],
      "source": [
        "patient_df.groupBy('state').count().show()"
      ]
    },
    {
      "cell_type": "markdown",
      "id": "59c16346",
      "metadata": {
        "id": "59c16346"
      },
      "source": [
        "### Display the number of null values in each column"
      ]
    },
    {
      "cell_type": "code",
      "execution_count": 12,
      "id": "05aa62e4",
      "metadata": {
        "id": "05aa62e4"
      },
      "outputs": [],
      "source": [
        "from pyspark.sql.functions import when, count as countFn"
      ]
    },
    {
      "cell_type": "code",
      "execution_count": 13,
      "id": "e8860f82",
      "metadata": {
        "id": "e8860f82"
      },
      "outputs": [],
      "source": [
        "# count null for all columns\n",
        "def count_null(df):\n",
        "    df.select([countFn(when(col(c).isNull(), c)).alias(c) for c in df.columns]).show()\n",
        "\n",
        "# count values in columns\n",
        "def value_counts(df, colum_name):\n",
        "    df.groupBy(colum_name).count().show()"
      ]
    },
    {
      "cell_type": "code",
      "execution_count": 14,
      "id": "c2a61794",
      "metadata": {
        "colab": {
          "base_uri": "https://localhost:8080/"
        },
        "id": "c2a61794",
        "outputId": "cefff653-89b0-4d56-8b73-8da23bd629c6"
      },
      "outputs": [
        {
          "output_type": "stream",
          "name": "stdout",
          "text": [
            "+----------+----+----+-------+--------+----+--------------+-----------+--------------+------------------+--------------+-------------+-------------+-----+\n",
            "|patient_id| sex| age|country|province|city|infection_case|infected_by|contact_number|symptom_onset_date|confirmed_date|released_date|deceased_date|state|\n",
            "+----------+----+----+-------+--------+----+--------------+-----------+--------------+------------------+--------------+-------------+-------------+-----+\n",
            "|         0|1122|1380|      0|       0|  94|           919|       3819|          4374|              4476|             3|         3578|         5099|    0|\n",
            "+----------+----+----+-------+--------+----+--------------+-----------+--------------+------------------+--------------+-------------+-------------+-----+\n",
            "\n"
          ]
        }
      ],
      "source": [
        "count_null(df=patient_df)"
      ]
    },
    {
      "cell_type": "markdown",
      "id": "c3133f5a",
      "metadata": {
        "id": "c3133f5a"
      },
      "source": [
        "## Data preprocessing"
      ]
    },
    {
      "cell_type": "markdown",
      "id": "ec32fa0c",
      "metadata": {
        "id": "ec32fa0c"
      },
      "source": [
        "### Fill the nulls in the deceased_date with the released_date. \n",
        "- You can use <b>coalesce</b> function"
      ]
    },
    {
      "cell_type": "code",
      "execution_count": 15,
      "id": "d5ba64f9",
      "metadata": {
        "id": "d5ba64f9"
      },
      "outputs": [],
      "source": [
        "from pyspark.sql.functions import coalesce, datediff"
      ]
    },
    {
      "cell_type": "code",
      "execution_count": 16,
      "id": "f4d76d5b",
      "metadata": {
        "id": "f4d76d5b"
      },
      "outputs": [],
      "source": [
        "patient_df1 = patient_df.withColumn('deceased_date', coalesce('deceased_date', 'released_date'))"
      ]
    },
    {
      "cell_type": "code",
      "execution_count": 17,
      "id": "5fef40b3",
      "metadata": {
        "colab": {
          "base_uri": "https://localhost:8080/"
        },
        "id": "5fef40b3",
        "outputId": "c57c5727-1b64-4e18-e463-ceeaac2bc323"
      },
      "outputs": [
        {
          "output_type": "stream",
          "name": "stdout",
          "text": [
            "+----------+----+----+-------+--------+----+--------------+-----------+--------------+------------------+--------------+-------------+-------------+-----+\n",
            "|patient_id| sex| age|country|province|city|infection_case|infected_by|contact_number|symptom_onset_date|confirmed_date|released_date|deceased_date|state|\n",
            "+----------+----+----+-------+--------+----+--------------+-----------+--------------+------------------+--------------+-------------+-------------+-----+\n",
            "|         0|1122|1380|      0|       0|  94|           919|       3819|          4374|              4476|             3|         3578|         3514|    0|\n",
            "+----------+----+----+-------+--------+----+--------------+-----------+--------------+------------------+--------------+-------------+-------------+-----+\n",
            "\n"
          ]
        }
      ],
      "source": [
        "count_null(df=patient_df1)"
      ]
    },
    {
      "cell_type": "markdown",
      "id": "4ec324f5",
      "metadata": {
        "id": "4ec324f5"
      },
      "source": [
        "### Add a column named no_days which is difference between the deceased_date and the confirmed_date then show the top 5 rows. Print the schema.\n",
        "- <b> Hint: You need to typecast these columns as date first <b>"
      ]
    },
    {
      "cell_type": "code",
      "execution_count": 18,
      "id": "d065e472",
      "metadata": {
        "id": "d065e472"
      },
      "outputs": [],
      "source": [
        "# casting before\n",
        "no_days = datediff(patient_df1['deceased_date'] , patient_df1['confirmed_date'])\n",
        "patient_df2 = patient_df1.withColumn('no_days', no_days)"
      ]
    },
    {
      "cell_type": "code",
      "execution_count": 19,
      "id": "ec3f7e55",
      "metadata": {
        "colab": {
          "base_uri": "https://localhost:8080/"
        },
        "id": "ec3f7e55",
        "outputId": "ed29d3df-889c-46d2-bce2-65dfb643ed95"
      },
      "outputs": [
        {
          "output_type": "stream",
          "name": "stdout",
          "text": [
            "+----------+------+---+-------+--------+-----------+--------------------+-----------+--------------+------------------+--------------+-------------+-------------+--------+-------+\n",
            "|patient_id|   sex|age|country|province|       city|      infection_case|infected_by|contact_number|symptom_onset_date|confirmed_date|released_date|deceased_date|   state|no_days|\n",
            "+----------+------+---+-------+--------+-----------+--------------------+-----------+--------------+------------------+--------------+-------------+-------------+--------+-------+\n",
            "|1000000001|  male|50s|  Korea|   Seoul| Gangseo-gu|     overseas inflow|       null|            75|        2020-01-22|    2020-01-23|   2020-02-05|   2020-02-05|released|     13|\n",
            "|1000000002|  male|30s|  Korea|   Seoul|Jungnang-gu|     overseas inflow|       null|            31|              null|    2020-01-30|   2020-03-02|   2020-03-02|released|     32|\n",
            "|1000000003|  male|50s|  Korea|   Seoul|  Jongno-gu|contact with patient| 2002000001|            17|              null|    2020-01-30|   2020-02-19|   2020-02-19|released|     20|\n",
            "|1000000004|  male|20s|  Korea|   Seoul|    Mapo-gu|     overseas inflow|       null|             9|        2020-01-26|    2020-01-30|   2020-02-15|   2020-02-15|released|     16|\n",
            "|1000000005|female|20s|  Korea|   Seoul|Seongbuk-gu|contact with patient| 1000000002|             2|              null|    2020-01-31|   2020-02-24|   2020-02-24|released|     24|\n",
            "+----------+------+---+-------+--------+-----------+--------------------+-----------+--------------+------------------+--------------+-------------+-------------+--------+-------+\n",
            "only showing top 5 rows\n",
            "\n"
          ]
        }
      ],
      "source": [
        "patient_df2.show(5)"
      ]
    },
    {
      "cell_type": "markdown",
      "id": "967b2466",
      "metadata": {
        "id": "967b2466"
      },
      "source": [
        "### Add a is_male column if male then it should yield true, else then False"
      ]
    },
    {
      "cell_type": "code",
      "execution_count": 20,
      "id": "8efe03b5",
      "metadata": {
        "id": "8efe03b5"
      },
      "outputs": [],
      "source": [
        "patient_df3 = patient_df2.withColumn('is_male', when(col('sex')=='male', True).when(col('sex')=='female', False).otherwise(None).alias('sex'))"
      ]
    },
    {
      "cell_type": "code",
      "execution_count": 21,
      "id": "87801d66",
      "metadata": {
        "colab": {
          "base_uri": "https://localhost:8080/"
        },
        "id": "87801d66",
        "outputId": "2acaa2d2-fe50-4153-edb4-4027b6b99010"
      },
      "outputs": [
        {
          "output_type": "stream",
          "name": "stdout",
          "text": [
            "+-------+-----+\n",
            "|is_male|count|\n",
            "+-------+-----+\n",
            "|   null| 1122|\n",
            "|   true| 1825|\n",
            "|  false| 2218|\n",
            "+-------+-----+\n",
            "\n"
          ]
        }
      ],
      "source": [
        "value_counts(patient_df3, colum_name='is_male')"
      ]
    },
    {
      "cell_type": "markdown",
      "id": "8603d7c0",
      "metadata": {
        "id": "8603d7c0"
      },
      "source": [
        "### Add a is_dead column if patient state is not released then it should yield true, else then False\n",
        "\n",
        "- Use <b>UDF</b> to perform this task. \n",
        "- However, UDF is not recommended there is no built in function can do the required operation.\n",
        "- UDF is slower than built in functions."
      ]
    },
    {
      "cell_type": "code",
      "execution_count": 22,
      "id": "1ea09798",
      "metadata": {
        "id": "1ea09798"
      },
      "outputs": [],
      "source": [
        "from pyspark.sql.functions import udf\n",
        "from pyspark.sql.types import BooleanType"
      ]
    },
    {
      "cell_type": "code",
      "execution_count": 23,
      "id": "d3343075",
      "metadata": {
        "id": "d3343075"
      },
      "outputs": [],
      "source": [
        "def rename_state(value):\n",
        "    if  value == 'released':\n",
        "        return False\n",
        "    else:\n",
        "        return True"
      ]
    },
    {
      "cell_type": "code",
      "execution_count": 24,
      "id": "2e0f6db2",
      "metadata": {
        "id": "2e0f6db2"
      },
      "outputs": [],
      "source": [
        "df_udf = udf(rename_state, BooleanType())"
      ]
    },
    {
      "cell_type": "code",
      "execution_count": 25,
      "id": "e7e00d98",
      "metadata": {
        "id": "e7e00d98"
      },
      "outputs": [],
      "source": [
        "patient_df4 = patient_df3.withColumn(\"is_dead\", df_udf(col(\"state\")).alias(\"is_dead\"))"
      ]
    },
    {
      "cell_type": "code",
      "execution_count": 26,
      "id": "e4a4fa61",
      "metadata": {
        "colab": {
          "base_uri": "https://localhost:8080/"
        },
        "id": "e4a4fa61",
        "outputId": "3be6ea68-b938-4217-9ef3-804244ba5abb"
      },
      "outputs": [
        {
          "output_type": "stream",
          "name": "stdout",
          "text": [
            "+-------+-----+\n",
            "|is_dead|count|\n",
            "+-------+-----+\n",
            "|   true| 2236|\n",
            "|  false| 2929|\n",
            "+-------+-----+\n",
            "\n"
          ]
        }
      ],
      "source": [
        "value_counts(patient_df4, colum_name='is_dead')"
      ]
    },
    {
      "cell_type": "markdown",
      "id": "e15264a9",
      "metadata": {
        "id": "e15264a9"
      },
      "source": [
        "### Change the ages to bins from 10s, 0s, 10s, 20s,.etc to 0,10, 20"
      ]
    },
    {
      "cell_type": "code",
      "execution_count": 27,
      "id": "e77a4574",
      "metadata": {
        "id": "e77a4574"
      },
      "outputs": [],
      "source": [
        "from pyspark.sql.functions import regexp_replace\n",
        "from pyspark.sql.types import DoubleType"
      ]
    },
    {
      "cell_type": "code",
      "execution_count": 28,
      "id": "62c7c93e",
      "metadata": {
        "id": "62c7c93e"
      },
      "outputs": [],
      "source": [
        "patient_df5 = patient_df4.withColumn('age', regexp_replace('age','s',''))"
      ]
    },
    {
      "cell_type": "code",
      "execution_count": 29,
      "id": "7a2b57ed",
      "metadata": {
        "colab": {
          "base_uri": "https://localhost:8080/"
        },
        "id": "7a2b57ed",
        "outputId": "83ade870-6933-4d8d-cb71-4cb1e61bc4ad"
      },
      "outputs": [
        {
          "output_type": "stream",
          "name": "stdout",
          "text": [
            "+----+-----+\n",
            "| age|count|\n",
            "+----+-----+\n",
            "|  30|  523|\n",
            "|   0|   66|\n",
            "|null| 1380|\n",
            "| 100|    1|\n",
            "|  70|  232|\n",
            "|  60|  482|\n",
            "|  90|   49|\n",
            "|  40|  518|\n",
            "|  20|  899|\n",
            "|  10|  178|\n",
            "|  80|  170|\n",
            "|  50|  667|\n",
            "+----+-----+\n",
            "\n"
          ]
        }
      ],
      "source": [
        "value_counts(patient_df5, colum_name='age')"
      ]
    },
    {
      "cell_type": "markdown",
      "id": "43cdf846",
      "metadata": {
        "id": "43cdf846"
      },
      "source": [
        "### Change age, and no_days  to be typecasted as Double"
      ]
    },
    {
      "cell_type": "code",
      "execution_count": 30,
      "id": "dfea7fcb",
      "metadata": {
        "id": "dfea7fcb"
      },
      "outputs": [],
      "source": [
        "patient_df6 = patient_df5.withColumn('age', col('age').cast(DoubleType()))\\\n",
        "                        .withColumn('no_days', col('age').cast(DoubleType()))\\\n",
        "                        .withColumn('is_male', col('is_male').cast(IntegerType()))\\\n",
        "                        .withColumn('is_dead', col('is_dead').cast(IntegerType()))"
      ]
    },
    {
      "cell_type": "code",
      "execution_count": 31,
      "id": "23dc925c",
      "metadata": {
        "colab": {
          "base_uri": "https://localhost:8080/"
        },
        "id": "23dc925c",
        "outputId": "1b656ec9-92c9-4b21-a605-1aa540479683"
      },
      "outputs": [
        {
          "output_type": "stream",
          "name": "stdout",
          "text": [
            "root\n",
            " |-- patient_id: long (nullable = true)\n",
            " |-- sex: string (nullable = true)\n",
            " |-- age: double (nullable = true)\n",
            " |-- country: string (nullable = true)\n",
            " |-- province: string (nullable = true)\n",
            " |-- city: string (nullable = true)\n",
            " |-- infection_case: string (nullable = true)\n",
            " |-- infected_by: string (nullable = true)\n",
            " |-- contact_number: string (nullable = true)\n",
            " |-- symptom_onset_date: date (nullable = true)\n",
            " |-- confirmed_date: date (nullable = true)\n",
            " |-- released_date: date (nullable = true)\n",
            " |-- deceased_date: date (nullable = true)\n",
            " |-- state: string (nullable = true)\n",
            " |-- no_days: double (nullable = true)\n",
            " |-- is_male: integer (nullable = true)\n",
            " |-- is_dead: integer (nullable = true)\n",
            "\n"
          ]
        }
      ],
      "source": [
        "patient_df6.printSchema()"
      ]
    },
    {
      "cell_type": "markdown",
      "id": "d31e3a87",
      "metadata": {
        "id": "d31e3a87"
      },
      "source": [
        "### Drop the columns\n",
        "[\"patient_id\",\"sex\",\"infected_by\",\"contact_number\",\"released_date\",\"state\",\n",
        "\"symptom_onset_date\",\"confirmed_date\",\"deceased_date\",\"country\",\"no_days\",\n",
        "\"city\",\"infection_case\"]"
      ]
    },
    {
      "cell_type": "code",
      "execution_count": 32,
      "id": "3ae0c428",
      "metadata": {
        "id": "3ae0c428"
      },
      "outputs": [],
      "source": [
        "drop_col =[\"patient_id\",\"sex\",\"infected_by\",\"contact_number\",\"released_date\",\"state\",\n",
        "                                            \"symptom_onset_date\",\"confirmed_date\",\"deceased_date\",\"country\",\"no_days\", \"city\",\"infection_case\"]\n",
        "patient_df7 = patient_df6.drop(*drop_col)"
      ]
    },
    {
      "cell_type": "markdown",
      "id": "32df47a6",
      "metadata": {
        "id": "32df47a6"
      },
      "source": [
        "### Recount the number of nulls now"
      ]
    },
    {
      "cell_type": "code",
      "execution_count": 33,
      "id": "25d41059",
      "metadata": {
        "colab": {
          "base_uri": "https://localhost:8080/"
        },
        "id": "25d41059",
        "outputId": "7c17092b-a9ed-484f-c2c1-59623507f625"
      },
      "outputs": [
        {
          "output_type": "stream",
          "name": "stdout",
          "text": [
            "+----+--------+-------+-------+\n",
            "| age|province|is_male|is_dead|\n",
            "+----+--------+-------+-------+\n",
            "|1380|       0|   1122|      0|\n",
            "+----+--------+-------+-------+\n",
            "\n"
          ]
        }
      ],
      "source": [
        "count_null(patient_df7)"
      ]
    },
    {
      "cell_type": "markdown",
      "id": "cc71f158",
      "metadata": {
        "id": "cc71f158"
      },
      "source": [
        "## Now do the same but using SQL select statement"
      ]
    },
    {
      "cell_type": "markdown",
      "id": "1d540282",
      "metadata": {
        "id": "1d540282"
      },
      "source": [
        "### From the original Patient DataFrame, Create a temporary view (table)."
      ]
    },
    {
      "cell_type": "code",
      "execution_count": null,
      "id": "cf56099f",
      "metadata": {
        "id": "cf56099f"
      },
      "outputs": [],
      "source": [
        "# paientTb\n",
        "patient_df.createOrReplaceTempView('table')"
      ]
    },
    {
      "cell_type": "markdown",
      "id": "cb004277",
      "metadata": {
        "id": "cb004277"
      },
      "source": [
        "### Use SELECT statement to select all columns from the dataframe and show the output."
      ]
    },
    {
      "cell_type": "code",
      "execution_count": 69,
      "id": "12ae8226",
      "metadata": {
        "scrolled": false,
        "colab": {
          "base_uri": "https://localhost:8080/"
        },
        "id": "12ae8226",
        "outputId": "68ef27bb-2a31-4a95-98e3-f8e3ff0e649a"
      },
      "outputs": [
        {
          "output_type": "stream",
          "name": "stdout",
          "text": [
            "+----------+------+---+-------+--------+------------+--------------------+-----------+--------------+------------------+--------------+-------------+-------------+--------+\n",
            "|patient_id|   sex|age|country|province|        city|      infection_case|infected_by|contact_number|symptom_onset_date|confirmed_date|released_date|deceased_date|   state|\n",
            "+----------+------+---+-------+--------+------------+--------------------+-----------+--------------+------------------+--------------+-------------+-------------+--------+\n",
            "|1000000001|  male|50s|  Korea|   Seoul|  Gangseo-gu|     overseas inflow|       null|            75|        2020-01-22|    2020-01-23|   2020-02-05|         null|released|\n",
            "|1000000002|  male|30s|  Korea|   Seoul| Jungnang-gu|     overseas inflow|       null|            31|              null|    2020-01-30|   2020-03-02|         null|released|\n",
            "|1000000003|  male|50s|  Korea|   Seoul|   Jongno-gu|contact with patient| 2002000001|            17|              null|    2020-01-30|   2020-02-19|         null|released|\n",
            "|1000000004|  male|20s|  Korea|   Seoul|     Mapo-gu|     overseas inflow|       null|             9|        2020-01-26|    2020-01-30|   2020-02-15|         null|released|\n",
            "|1000000005|female|20s|  Korea|   Seoul| Seongbuk-gu|contact with patient| 1000000002|             2|              null|    2020-01-31|   2020-02-24|         null|released|\n",
            "|1000000006|female|50s|  Korea|   Seoul|   Jongno-gu|contact with patient| 1000000003|            43|              null|    2020-01-31|   2020-02-19|         null|released|\n",
            "|1000000007|  male|20s|  Korea|   Seoul|   Jongno-gu|contact with patient| 1000000003|             0|              null|    2020-01-31|   2020-02-10|         null|released|\n",
            "|1000000008|  male|20s|  Korea|   Seoul|         etc|     overseas inflow|       null|             0|              null|    2020-02-02|   2020-02-24|         null|released|\n",
            "|1000000009|  male|30s|  Korea|   Seoul|   Songpa-gu|     overseas inflow|       null|            68|              null|    2020-02-05|   2020-02-21|         null|released|\n",
            "|1000000010|female|60s|  Korea|   Seoul| Seongbuk-gu|contact with patient| 1000000003|             6|              null|    2020-02-05|   2020-02-29|         null|released|\n",
            "|1000000011|female|50s|  China|   Seoul|Seodaemun-gu|     overseas inflow|       null|            23|              null|    2020-02-06|   2020-02-29|         null|released|\n",
            "|1000000012|  male|20s|  Korea|   Seoul|         etc|     overseas inflow|       null|             0|              null|    2020-02-07|   2020-02-27|         null|released|\n",
            "|1000000013|  male|80s|  Korea|   Seoul|   Jongno-gu|contact with patient| 1000000017|           117|              null|    2020-02-16|         null|         null|deceased|\n",
            "|1000000014|female|60s|  Korea|   Seoul|   Jongno-gu|contact with patient| 1000000013|            27|        2020-02-06|    2020-02-16|   2020-03-12|         null|released|\n",
            "|1000000015|  male|70s|  Korea|   Seoul|Seongdong-gu|    Seongdong-gu APT|       null|             8|        2020-02-11|    2020-02-19|         null|         null|released|\n",
            "|1000000016|  male|70s|  Korea|   Seoul|   Jongno-gu|contact with patient| 1000000017|          null|              null|    2020-02-19|   2020-03-11|         null|released|\n",
            "|1000000017|  male|70s|  Korea|   Seoul|   Jongno-gu|contact with patient| 1000000003|          null|              null|    2020-02-20|   2020-03-01|         null|released|\n",
            "|1000000018|  male|20s|  Korea|   Seoul|         etc|                 etc|       null|          null|              null|    2020-02-20|         null|         null|released|\n",
            "|1000000019|female|70s|  Korea|   Seoul|   Jongno-gu|contact with patient| 1000000021|          null|              null|    2020-02-20|   2020-03-08|         null|released|\n",
            "|1000000020|female|70s|  Korea|   Seoul|Seongdong-gu|    Seongdong-gu APT| 1000000015|          null|              null|    2020-02-20|         null|         null|released|\n",
            "+----------+------+---+-------+--------+------------+--------------------+-----------+--------------+------------------+--------------+-------------+-------------+--------+\n",
            "only showing top 20 rows\n",
            "\n"
          ]
        }
      ],
      "source": [
        "spark.sql(\"Select * from table\").show()"
      ]
    },
    {
      "cell_type": "markdown",
      "id": "e0da4318",
      "metadata": {
        "id": "e0da4318"
      },
      "source": [
        "### *Using SQL commands*, limit the output to only 5 rows "
      ]
    },
    {
      "cell_type": "code",
      "source": [
        "spark.sql(\"Select * from table limit 5\").show()"
      ],
      "metadata": {
        "colab": {
          "base_uri": "https://localhost:8080/"
        },
        "id": "5ACWqIpueDiq",
        "outputId": "db84a5fc-38a1-4fc5-a08a-47fd06e46eda"
      },
      "id": "5ACWqIpueDiq",
      "execution_count": 68,
      "outputs": [
        {
          "output_type": "stream",
          "name": "stdout",
          "text": [
            "+----------+------+---+-------+--------+-----------+--------------------+-----------+--------------+------------------+--------------+-------------+-------------+--------+\n",
            "|patient_id|   sex|age|country|province|       city|      infection_case|infected_by|contact_number|symptom_onset_date|confirmed_date|released_date|deceased_date|   state|\n",
            "+----------+------+---+-------+--------+-----------+--------------------+-----------+--------------+------------------+--------------+-------------+-------------+--------+\n",
            "|1000000001|  male|50s|  Korea|   Seoul| Gangseo-gu|     overseas inflow|       null|            75|        2020-01-22|    2020-01-23|   2020-02-05|         null|released|\n",
            "|1000000002|  male|30s|  Korea|   Seoul|Jungnang-gu|     overseas inflow|       null|            31|              null|    2020-01-30|   2020-03-02|         null|released|\n",
            "|1000000003|  male|50s|  Korea|   Seoul|  Jongno-gu|contact with patient| 2002000001|            17|              null|    2020-01-30|   2020-02-19|         null|released|\n",
            "|1000000004|  male|20s|  Korea|   Seoul|    Mapo-gu|     overseas inflow|       null|             9|        2020-01-26|    2020-01-30|   2020-02-15|         null|released|\n",
            "|1000000005|female|20s|  Korea|   Seoul|Seongbuk-gu|contact with patient| 1000000002|             2|              null|    2020-01-31|   2020-02-24|         null|released|\n",
            "+----------+------+---+-------+--------+-----------+--------------------+-----------+--------------+------------------+--------------+-------------+-------------+--------+\n",
            "\n"
          ]
        }
      ]
    },
    {
      "cell_type": "markdown",
      "id": "b70edf17",
      "metadata": {
        "id": "b70edf17"
      },
      "source": [
        "### Select the count of males and females in the dataset"
      ]
    },
    {
      "cell_type": "code",
      "execution_count": 79,
      "id": "00e9fd65",
      "metadata": {
        "colab": {
          "base_uri": "https://localhost:8080/"
        },
        "id": "00e9fd65",
        "outputId": "824850a1-e089-4b19-ac9b-2706f93bc9b8"
      },
      "outputs": [
        {
          "output_type": "stream",
          "name": "stdout",
          "text": [
            "+------+----------+\n",
            "|   sex|count(sex)|\n",
            "+------+----------+\n",
            "|  null|         0|\n",
            "|female|      2218|\n",
            "|  male|      1825|\n",
            "+------+----------+\n",
            "\n"
          ]
        }
      ],
      "source": [
        "spark.sql(\"Select sex, count(sex) from table group by sex\").show()"
      ]
    },
    {
      "cell_type": "markdown",
      "id": "73683674",
      "metadata": {
        "id": "73683674"
      },
      "source": [
        "### How many people did survive, and how many didn't?"
      ]
    },
    {
      "cell_type": "code",
      "execution_count": 80,
      "id": "1e5a3908",
      "metadata": {
        "colab": {
          "base_uri": "https://localhost:8080/"
        },
        "id": "1e5a3908",
        "outputId": "a4d68825-ab3b-42c6-f3da-4fb4a880541b"
      },
      "outputs": [
        {
          "output_type": "stream",
          "name": "stdout",
          "text": [
            "+--------+------------+\n",
            "|   state|count(state)|\n",
            "+--------+------------+\n",
            "|isolated|        2158|\n",
            "|released|        2929|\n",
            "|deceased|          78|\n",
            "+--------+------------+\n",
            "\n"
          ]
        }
      ],
      "source": [
        "spark.sql(\"Select state, count(state) from table group by state\").show()"
      ]
    },
    {
      "cell_type": "markdown",
      "id": "d4424228",
      "metadata": {
        "id": "d4424228"
      },
      "source": [
        "### Now, let's perform some preprocessing using SQL:\n",
        "1. Convert *age* column to double after removing the 's' at the end -- *hint: check SUBSTRING method*\n",
        "2. Select only the following columns: `['sex', 'age', 'province', 'state']`\n",
        "3. Store the result of the query in a new dataframe"
      ]
    },
    {
      "cell_type": "code",
      "execution_count": 82,
      "id": "16994e4d",
      "metadata": {
        "id": "16994e4d"
      },
      "outputs": [],
      "source": [
        "paientTb = spark.sql(\"select SUBSTRING(age, 0, length(age)-1) as age, sex, province, state from table\")"
      ]
    },
    {
      "cell_type": "code",
      "execution_count": 83,
      "id": "d3cf4f0f",
      "metadata": {
        "scrolled": true,
        "colab": {
          "base_uri": "https://localhost:8080/"
        },
        "id": "d3cf4f0f",
        "outputId": "2eaa4c65-fe78-4f36-bd84-819c2c479933"
      },
      "outputs": [
        {
          "output_type": "stream",
          "name": "stdout",
          "text": [
            "+---+------+--------+--------+\n",
            "|age|   sex|province|   state|\n",
            "+---+------+--------+--------+\n",
            "| 50|  male|   Seoul|released|\n",
            "| 30|  male|   Seoul|released|\n",
            "| 50|  male|   Seoul|released|\n",
            "| 20|  male|   Seoul|released|\n",
            "| 20|female|   Seoul|released|\n",
            "| 50|female|   Seoul|released|\n",
            "| 20|  male|   Seoul|released|\n",
            "| 20|  male|   Seoul|released|\n",
            "| 30|  male|   Seoul|released|\n",
            "| 60|female|   Seoul|released|\n",
            "| 50|female|   Seoul|released|\n",
            "| 20|  male|   Seoul|released|\n",
            "| 80|  male|   Seoul|deceased|\n",
            "| 60|female|   Seoul|released|\n",
            "| 70|  male|   Seoul|released|\n",
            "| 70|  male|   Seoul|released|\n",
            "| 70|  male|   Seoul|released|\n",
            "| 20|  male|   Seoul|released|\n",
            "| 70|female|   Seoul|released|\n",
            "| 70|female|   Seoul|released|\n",
            "+---+------+--------+--------+\n",
            "only showing top 20 rows\n",
            "\n"
          ]
        }
      ],
      "source": [
        "paientTb.show()"
      ]
    },
    {
      "cell_type": "code",
      "execution_count": 84,
      "id": "61c70bc8",
      "metadata": {
        "id": "61c70bc8"
      },
      "outputs": [],
      "source": [
        "paientTb.createTempView('table2')"
      ]
    },
    {
      "cell_type": "code",
      "source": [
        "sql_df = spark.sql(\"select Cast(age as Double) as age, sex, province, state from table2\")"
      ],
      "metadata": {
        "id": "FXojsos8gfpr"
      },
      "id": "FXojsos8gfpr",
      "execution_count": 88,
      "outputs": []
    },
    {
      "cell_type": "code",
      "source": [
        "sql_df.show()"
      ],
      "metadata": {
        "colab": {
          "base_uri": "https://localhost:8080/"
        },
        "id": "xPuxhhiZgz0l",
        "outputId": "c5790e73-1829-4825-ea16-338edf978c2f"
      },
      "id": "xPuxhhiZgz0l",
      "execution_count": 89,
      "outputs": [
        {
          "output_type": "stream",
          "name": "stdout",
          "text": [
            "+----+------+--------+--------+\n",
            "| age|   sex|province|   state|\n",
            "+----+------+--------+--------+\n",
            "|50.0|  male|   Seoul|released|\n",
            "|30.0|  male|   Seoul|released|\n",
            "|50.0|  male|   Seoul|released|\n",
            "|20.0|  male|   Seoul|released|\n",
            "|20.0|female|   Seoul|released|\n",
            "|50.0|female|   Seoul|released|\n",
            "|20.0|  male|   Seoul|released|\n",
            "|20.0|  male|   Seoul|released|\n",
            "|30.0|  male|   Seoul|released|\n",
            "|60.0|female|   Seoul|released|\n",
            "|50.0|female|   Seoul|released|\n",
            "|20.0|  male|   Seoul|released|\n",
            "|80.0|  male|   Seoul|deceased|\n",
            "|60.0|female|   Seoul|released|\n",
            "|70.0|  male|   Seoul|released|\n",
            "|70.0|  male|   Seoul|released|\n",
            "|70.0|  male|   Seoul|released|\n",
            "|20.0|  male|   Seoul|released|\n",
            "|70.0|female|   Seoul|released|\n",
            "|70.0|female|   Seoul|released|\n",
            "+----+------+--------+--------+\n",
            "only showing top 20 rows\n",
            "\n"
          ]
        }
      ]
    },
    {
      "cell_type": "markdown",
      "id": "d4a24c24",
      "metadata": {
        "id": "d4a24c24"
      },
      "source": [
        "## Machine Learning \n",
        "### Create a pipeline model to predict is_dead and evaluate the performance.\n",
        "- Use <b>StringIndexer</b> to transform <b>string</b> data type to indices.\n",
        "- Use <b>OneHotEncoder</b> to deal with categorical values.\n",
        "- Use <b>Imputer</b> to fill missing data with mean."
      ]
    },
    {
      "cell_type": "code",
      "execution_count": 34,
      "id": "b7970eb0",
      "metadata": {
        "colab": {
          "base_uri": "https://localhost:8080/"
        },
        "id": "b7970eb0",
        "outputId": "9339b6bf-9209-4e43-c3c9-81a4a1b98967"
      },
      "outputs": [
        {
          "output_type": "stream",
          "name": "stdout",
          "text": [
            "+---+--------+-------+-------+\n",
            "|age|province|is_male|is_dead|\n",
            "+---+--------+-------+-------+\n",
            "|261|       0|      0|      0|\n",
            "+---+--------+-------+-------+\n",
            "\n"
          ]
        }
      ],
      "source": [
        "# drop na from gender\n",
        "patient_df8 = patient_df7.dropna(subset='is_male', how='any')\n",
        "count_null(patient_df8)"
      ]
    },
    {
      "cell_type": "code",
      "execution_count": 35,
      "id": "0208f5d8",
      "metadata": {
        "id": "0208f5d8"
      },
      "outputs": [],
      "source": [
        "from pyspark.ml.classification import DecisionTreeClassifier, RandomForestClassifier, LogisticRegression, LinearSVC, FMClassifier\n",
        "from pyspark.ml.pipeline import Pipeline\n",
        "from pyspark.ml.evaluation import MulticlassClassificationEvaluator\n",
        "from pyspark.ml.feature import VectorAssembler, OneHotEncoder,StringIndexer, Imputer"
      ]
    },
    {
      "cell_type": "code",
      "execution_count": 36,
      "metadata": {
        "id": "wYlByAQ7YOG5"
      },
      "outputs": [],
      "source": [
        "X_train, X_test = patient_df8.randomSplit([0.8, 0.2], seed=60)"
      ],
      "id": "wYlByAQ7YOG5"
    },
    {
      "cell_type": "code",
      "execution_count": 37,
      "id": "d0660707",
      "metadata": {
        "colab": {
          "base_uri": "https://localhost:8080/"
        },
        "id": "d0660707",
        "outputId": "8f9eb88d-d75c-426d-e758-8918196c66d1"
      },
      "outputs": [
        {
          "output_type": "stream",
          "name": "stdout",
          "text": [
            "+----+--------+-------+-------+\n",
            "| age|province|is_male|is_dead|\n",
            "+----+--------+-------+-------+\n",
            "|50.0|   Seoul|      1|      0|\n",
            "|30.0|   Seoul|      1|      0|\n",
            "|50.0|   Seoul|      1|      0|\n",
            "|20.0|   Seoul|      1|      0|\n",
            "|20.0|   Seoul|      0|      0|\n",
            "+----+--------+-------+-------+\n",
            "only showing top 5 rows\n",
            "\n"
          ]
        }
      ],
      "source": [
        "patient_df8.show(5)"
      ]
    },
    {
      "cell_type": "code",
      "execution_count": 38,
      "id": "34c429e1",
      "metadata": {
        "id": "34c429e1"
      },
      "outputs": [],
      "source": [
        "cat_col = [col_name for (col_name, dt) in patient_df8.dtypes if dt =='string']\n",
        "\n",
        "num_col = list(set(patient_df8.columns) - set(cat_col))\n",
        "\n",
        "indexer_col = [col_name+'_INDEX' for (col_name, dt) in patient_df8.dtypes if dt =='string']\n",
        "\n",
        "ohe_col = [col_name+'_OHE' for (col_name, dt) in patient_df8.dtypes if dt =='string']"
      ]
    },
    {
      "cell_type": "code",
      "execution_count": 39,
      "id": "7a71806f",
      "metadata": {
        "colab": {
          "base_uri": "https://localhost:8080/"
        },
        "id": "7a71806f",
        "outputId": "46caa6ac-126d-4b77-9e1d-a885bd9b3d14"
      },
      "outputs": [
        {
          "output_type": "execute_result",
          "data": {
            "text/plain": [
              "(['is_male', 'age', 'is_dead'],\n",
              " ['province_INDEX'],\n",
              " ['province_OHE'],\n",
              " ['province'])"
            ]
          },
          "metadata": {},
          "execution_count": 39
        }
      ],
      "source": [
        "num_col, indexer_col, ohe_col, cat_col"
      ]
    },
    {
      "cell_type": "code",
      "execution_count": 40,
      "id": "f5c63a03",
      "metadata": {
        "id": "f5c63a03"
      },
      "outputs": [],
      "source": [
        "imputer = Imputer(inputCol='age', outputCol='age', strategy='mean')"
      ]
    },
    {
      "cell_type": "code",
      "execution_count": 41,
      "id": "74f37ddc",
      "metadata": {
        "id": "74f37ddc"
      },
      "outputs": [],
      "source": [
        "indexer = StringIndexer(inputCols=cat_col, outputCols=indexer_col, handleInvalid='skip')"
      ]
    },
    {
      "cell_type": "code",
      "execution_count": 42,
      "id": "840cb942",
      "metadata": {
        "id": "840cb942"
      },
      "outputs": [],
      "source": [
        "ohe = OneHotEncoder(inputCols=indexer_col, outputCols=ohe_col)"
      ]
    },
    {
      "cell_type": "code",
      "execution_count": 43,
      "id": "a7ba3350",
      "metadata": {
        "id": "a7ba3350"
      },
      "outputs": [],
      "source": [
        "assembler_col = num_col[:-1] + ohe_col"
      ]
    },
    {
      "cell_type": "code",
      "execution_count": 44,
      "id": "80ff45aa",
      "metadata": {
        "id": "80ff45aa"
      },
      "outputs": [],
      "source": [
        "assembler = VectorAssembler(inputCols=assembler_col, outputCol='features')"
      ]
    },
    {
      "cell_type": "code",
      "execution_count": 45,
      "id": "93117c04",
      "metadata": {
        "colab": {
          "base_uri": "https://localhost:8080/"
        },
        "id": "93117c04",
        "outputId": "c76bc693-a2e1-4fbf-f347-67788b18f423"
      },
      "outputs": [
        {
          "output_type": "execute_result",
          "data": {
            "text/plain": [
              "(['is_male', 'age', 'province_OHE'], 'features')"
            ]
          },
          "metadata": {},
          "execution_count": 45
        }
      ],
      "source": [
        "assembler.getInputCols(), assembler.getOutputCol()"
      ]
    },
    {
      "cell_type": "code",
      "execution_count": 46,
      "id": "eef24888",
      "metadata": {
        "id": "eef24888"
      },
      "outputs": [],
      "source": [
        "treeClassifier = DecisionTreeClassifier(featuresCol=\"features\", labelCol=\"is_dead\", predictionCol=\"prediction\", seed=60)\n",
        "forestClassifier = RandomForestClassifier(featuresCol=\"features\", labelCol=\"is_dead\", predictionCol=\"prediction\", seed=60)\n",
        "svcClassifier = LinearSVC(featuresCol=\"features\", labelCol=\"is_dead\", predictionCol=\"prediction\")\n",
        "logClassifier = LogisticRegression(featuresCol=\"features\", labelCol=\"is_dead\", predictionCol=\"prediction\")"
      ]
    },
    {
      "cell_type": "code",
      "execution_count": 47,
      "id": "401338d8",
      "metadata": {
        "id": "401338d8"
      },
      "outputs": [],
      "source": [
        "pipeline = Pipeline(stages=[imputer, indexer, ohe, assembler, treeClassifier])"
      ]
    },
    {
      "cell_type": "code",
      "execution_count": 48,
      "id": "ecb5a1a9",
      "metadata": {
        "id": "ecb5a1a9"
      },
      "outputs": [],
      "source": [
        "evalualuator = MulticlassClassificationEvaluator(predictionCol='prediction', labelCol='is_dead', metricName='accuracy')"
      ]
    },
    {
      "cell_type": "code",
      "execution_count": 49,
      "id": "358b8bf3",
      "metadata": {
        "id": "358b8bf3"
      },
      "outputs": [],
      "source": [
        "model = pipeline.fit(X_train)"
      ]
    },
    {
      "cell_type": "code",
      "execution_count": 50,
      "id": "51922639",
      "metadata": {
        "colab": {
          "base_uri": "https://localhost:8080/"
        },
        "id": "51922639",
        "outputId": "53e113a2-0e08-4036-fdd1-e063cb3bd659"
      },
      "outputs": [
        {
          "output_type": "execute_result",
          "data": {
            "text/plain": [
              "0.9012875536480687"
            ]
          },
          "metadata": {},
          "execution_count": 50
        }
      ],
      "source": [
        "train_ =  model.transform(X_train)\n",
        "evalualuator.evaluate(train_)"
      ]
    },
    {
      "cell_type": "code",
      "execution_count": 51,
      "id": "58431308",
      "metadata": {
        "colab": {
          "base_uri": "https://localhost:8080/"
        },
        "id": "58431308",
        "outputId": "1065eb66-e0d6-4935-b52a-291c021a8f67"
      },
      "outputs": [
        {
          "output_type": "stream",
          "name": "stdout",
          "text": [
            "+----------+-----+\n",
            "|prediction|count|\n",
            "+----------+-----+\n",
            "|       0.0| 2219|\n",
            "|       1.0| 1043|\n",
            "+----------+-----+\n",
            "\n"
          ]
        }
      ],
      "source": [
        "# train_.select('features', 'prediction')\n",
        "value_counts(train_, colum_name='prediction')"
      ]
    },
    {
      "cell_type": "code",
      "execution_count": 52,
      "id": "87fb2d63",
      "metadata": {
        "colab": {
          "base_uri": "https://localhost:8080/"
        },
        "id": "87fb2d63",
        "outputId": "e58d400f-2d6c-4929-bfe6-5850a7fb0cef"
      },
      "outputs": [
        {
          "output_type": "execute_result",
          "data": {
            "text/plain": [
              "0.8898847631241997"
            ]
          },
          "metadata": {},
          "execution_count": 52
        }
      ],
      "source": [
        "test_ = model.transform(X_test)\n",
        "evalualuator.evaluate(test_)"
      ]
    },
    {
      "cell_type": "code",
      "execution_count": 53,
      "id": "72d2f13e",
      "metadata": {
        "colab": {
          "base_uri": "https://localhost:8080/"
        },
        "id": "72d2f13e",
        "outputId": "0cda250e-e5e5-46b3-d90a-73daa0b4acac"
      },
      "outputs": [
        {
          "output_type": "stream",
          "name": "stdout",
          "text": [
            "+----------+-----+\n",
            "|prediction|count|\n",
            "+----------+-----+\n",
            "|       0.0|  533|\n",
            "|       1.0|  248|\n",
            "+----------+-----+\n",
            "\n"
          ]
        }
      ],
      "source": [
        "# test_.select('features', 'prediction').show()\n",
        "value_counts(test_, colum_name='prediction')"
      ]
    },
    {
      "cell_type": "code",
      "execution_count": null,
      "id": "94400846",
      "metadata": {
        "id": "94400846"
      },
      "outputs": [],
      "source": [
        ""
      ]
    },
    {
      "cell_type": "code",
      "execution_count": null,
      "id": "efcd4c8a",
      "metadata": {
        "id": "efcd4c8a"
      },
      "outputs": [],
      "source": [
        ""
      ]
    }
  ],
  "metadata": {
    "kernelspec": {
      "display_name": "Python 3.8.10 64-bit",
      "language": "python",
      "name": "python3"
    },
    "language_info": {
      "codemirror_mode": {
        "name": "ipython",
        "version": 3
      },
      "file_extension": ".py",
      "mimetype": "text/x-python",
      "name": "python",
      "nbconvert_exporter": "python",
      "pygments_lexer": "ipython3",
      "version": "3.8.10"
    },
    "vscode": {
      "interpreter": {
        "hash": "916dbcbb3f70747c44a77c7bcd40155683ae19c65e1c03b4aa3499c5328201f1"
      }
    },
    "colab": {
      "name": "Salim_Fathy_Practical_Day_1_DF_SQL_ML.ipynb",
      "provenance": [],
      "collapsed_sections": []
    }
  },
  "nbformat": 4,
  "nbformat_minor": 5
}
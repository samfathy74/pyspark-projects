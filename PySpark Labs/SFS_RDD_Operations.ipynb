{
  "cells": [
    {
      "cell_type": "markdown",
      "id": "2568221b",
      "metadata": {
        "id": "2568221b"
      },
      "source": [
        "### Import the required libraries then Create SparkContext"
      ]
    },
    {
      "cell_type": "code",
      "execution_count": 1,
      "id": "65e6978c",
      "metadata": {
        "id": "65e6978c"
      },
      "outputs": [],
      "source": [
        "from pyspark.sql import SparkSession"
      ]
    },
    {
      "cell_type": "code",
      "execution_count": 4,
      "id": "R218adnWdSfi",
      "metadata": {
        "id": "R218adnWdSfi"
      },
      "outputs": [],
      "source": [
        "spark = SparkSession.builder.appName('myRDD').getOrCreate()"
      ]
    },
    {
      "cell_type": "code",
      "execution_count": 5,
      "id": "VLLOuKaVdkrP",
      "metadata": {
        "id": "VLLOuKaVdkrP"
      },
      "outputs": [],
      "source": [
        "sc = spark.sparkContext"
      ]
    },
    {
      "cell_type": "markdown",
      "id": "e9a7d9c6",
      "metadata": {
        "id": "e9a7d9c6"
      },
      "source": [
        "### Create and display an RDD from the following list"
      ]
    },
    {
      "cell_type": "code",
      "execution_count": 6,
      "id": "409084ef",
      "metadata": {
        "id": "409084ef"
      },
      "outputs": [],
      "source": [
        "list1 = [('JK', 22), ('V', 24), ('Jimin',24), ('RM', 25), ('J-Hope', 25), ('Suga', 26), ('Jin', 27)]"
      ]
    },
    {
      "cell_type": "code",
      "execution_count": 92,
      "id": "d5ba0725",
      "metadata": {
        "id": "d5ba0725",
        "scrolled": true
      },
      "outputs": [],
      "source": [
        "rdd1 = sc.parallelize(list1)"
      ]
    },
    {
      "cell_type": "code",
      "execution_count": 94,
      "id": "ZLCihmEH--2z",
      "metadata": {
        "colab": {
          "base_uri": "https://localhost:8080/"
        },
        "id": "ZLCihmEH--2z",
        "outputId": "16dc7198-9851-4fb3-eafd-02e1651d53a8"
      },
      "outputs": [
        {
          "data": {
            "text/plain": [
              "[('JK', 22),\n",
              " ('V', 24),\n",
              " ('Jimin', 24),\n",
              " ('RM', 25),\n",
              " ('J-Hope', 25),\n",
              " ('Suga', 26),\n",
              " ('Jin', 27)]"
            ]
          },
          "execution_count": 94,
          "metadata": {},
          "output_type": "execute_result"
        }
      ],
      "source": [
        "rdd1.collect()"
      ]
    },
    {
      "cell_type": "markdown",
      "id": "feedfb38",
      "metadata": {
        "id": "feedfb38"
      },
      "source": [
        "### Read sample1.txt file into RDD and displaying the first 4 elements"
      ]
    },
    {
      "cell_type": "code",
      "execution_count": 41,
      "id": "rEUf2VvgdOoG",
      "metadata": {
        "id": "rEUf2VvgdOoG"
      },
      "outputs": [],
      "source": [
        "rddFile = sc.textFile('sample.txt')"
      ]
    },
    {
      "cell_type": "code",
      "execution_count": 42,
      "id": "95bVz0xTd7fJ",
      "metadata": {
        "colab": {
          "base_uri": "https://localhost:8080/"
        },
        "id": "95bVz0xTd7fJ",
        "outputId": "bf1ce316-6b6c-4f8f-a76d-5f91b4c8aa10"
      },
      "outputs": [
        {
          "data": {
            "text/plain": [
              "['Utilitatis causa amicitia est quaesita.',\n",
              " 'Lorem ipsum dolor sit amet, consectetur adipiscing elit.',\n",
              " 'Collatio igitur ista te nihil iuvat. Honesta oratio, Socratica, Platonis etiam. Primum in nostrane potestate est, quid meminerimus?',\n",
              " 'Duo Reges: constructio interrete. ']"
            ]
          },
          "execution_count": 42,
          "metadata": {},
          "output_type": "execute_result"
        }
      ],
      "source": [
        "rddFile.take(4)"
      ]
    },
    {
      "cell_type": "markdown",
      "id": "e55ae192",
      "metadata": {
        "id": "e55ae192"
      },
      "source": [
        "### Count the total number of rows in RDD"
      ]
    },
    {
      "cell_type": "code",
      "execution_count": 43,
      "id": "0b3be34e",
      "metadata": {
        "colab": {
          "base_uri": "https://localhost:8080/"
        },
        "id": "0b3be34e",
        "outputId": "f05c6a40-72e2-4212-b911-09c0ad09daba"
      },
      "outputs": [
        {
          "data": {
            "text/plain": [
              "7"
            ]
          },
          "execution_count": 43,
          "metadata": {},
          "output_type": "execute_result"
        }
      ],
      "source": [
        "rddFile.count()"
      ]
    },
    {
      "cell_type": "markdown",
      "id": "35652e93",
      "metadata": {
        "id": "35652e93"
      },
      "source": [
        "### Create a function to convert the data into lower case and splitting it"
      ]
    },
    {
      "cell_type": "code",
      "execution_count": 44,
      "id": "Ftj7I5BHiov1",
      "metadata": {
        "id": "Ftj7I5BHiov1"
      },
      "outputs": [],
      "source": [
        "rddFileTransform = rddFile.map(lambda s: s.lower().split(' '))"
      ]
    },
    {
      "cell_type": "code",
      "execution_count": 45,
      "id": "KlBDC3AxjctM",
      "metadata": {
        "colab": {
          "base_uri": "https://localhost:8080/"
        },
        "id": "KlBDC3AxjctM",
        "outputId": "4dac7f6f-ee48-4719-8172-e273041a960e"
      },
      "outputs": [
        {
          "data": {
            "text/plain": [
              "[['utilitatis', 'causa', 'amicitia', 'est', 'quaesita.'],\n",
              " ['lorem',\n",
              "  'ipsum',\n",
              "  'dolor',\n",
              "  'sit',\n",
              "  'amet,',\n",
              "  'consectetur',\n",
              "  'adipiscing',\n",
              "  'elit.'],\n",
              " ['collatio',\n",
              "  'igitur',\n",
              "  'ista',\n",
              "  'te',\n",
              "  'nihil',\n",
              "  'iuvat.',\n",
              "  'honesta',\n",
              "  'oratio,',\n",
              "  'socratica,',\n",
              "  'platonis',\n",
              "  'etiam.',\n",
              "  'primum',\n",
              "  'in',\n",
              "  'nostrane',\n",
              "  'potestate',\n",
              "  'est,',\n",
              "  'quid',\n",
              "  'meminerimus?'],\n",
              " ['duo', 'reges:', 'constructio', 'interrete.', ''],\n",
              " ['quamquam',\n",
              "  'id',\n",
              "  'quidem',\n",
              "  'licebit',\n",
              "  'iis',\n",
              "  'existimare,',\n",
              "  'qui',\n",
              "  'legerint.',\n",
              "  ''],\n",
              " ['quid,',\n",
              "  'si',\n",
              "  'etiam',\n",
              "  'iucunda',\n",
              "  'memoria',\n",
              "  'est',\n",
              "  'praeteritorum',\n",
              "  'malorum?',\n",
              "  ''],\n",
              " ['si',\n",
              "  'quidem,',\n",
              "  'inquit,',\n",
              "  'tollerem,',\n",
              "  'sed',\n",
              "  'relinquo.',\n",
              "  'an',\n",
              "  'nisi',\n",
              "  'populari',\n",
              "  'fama?']]"
            ]
          },
          "execution_count": 45,
          "metadata": {},
          "output_type": "execute_result"
        }
      ],
      "source": [
        "rddFileTransform.collect()"
      ]
    },
    {
      "cell_type": "markdown",
      "id": "4cfa29af",
      "metadata": {
        "id": "4cfa29af"
      },
      "source": [
        "### Filter the stopwords from the previous text"
      ]
    },
    {
      "cell_type": "code",
      "execution_count": 46,
      "id": "97c1e731",
      "metadata": {
        "id": "97c1e731"
      },
      "outputs": [],
      "source": [
        "stopwords = ['a','all','the','as','is','am','an','and','be','been','from','had','I','I’d','why','with']\n",
        "# Hint: you may need use flatMap"
      ]
    },
    {
      "cell_type": "code",
      "execution_count": 82,
      "id": "WmKLfz0ElLaQ",
      "metadata": {
        "id": "WmKLfz0ElLaQ"
      },
      "outputs": [],
      "source": [
        "rddFileTransform2 = rddFileTransform.flatMap(lambda x: x)"
      ]
    },
    {
      "cell_type": "code",
      "execution_count": 85,
      "id": "gpqcGl0jmdqF",
      "metadata": {
        "id": "gpqcGl0jmdqF"
      },
      "outputs": [],
      "source": [
        "rddFileFilter = rddFileTransform2.filter(lambda s : s not in stopwords)"
      ]
    },
    {
      "cell_type": "code",
      "execution_count": 87,
      "id": "3Y-mc-VJ5HJ0",
      "metadata": {
        "colab": {
          "base_uri": "https://localhost:8080/"
        },
        "id": "3Y-mc-VJ5HJ0",
        "outputId": "dd874a3b-aa8a-4b02-cc14-2115962643cb"
      },
      "outputs": [
        {
          "data": {
            "text/plain": [
              "['utilitatis',\n",
              " 'causa',\n",
              " 'amicitia',\n",
              " 'est',\n",
              " 'quaesita.',\n",
              " 'lorem',\n",
              " 'ipsum',\n",
              " 'dolor',\n",
              " 'sit',\n",
              " 'amet,']"
            ]
          },
          "execution_count": 87,
          "metadata": {},
          "output_type": "execute_result"
        }
      ],
      "source": [
        "rddFileFilter.take(10)"
      ]
    },
    {
      "cell_type": "markdown",
      "id": "eb066a90",
      "metadata": {
        "id": "eb066a90"
      },
      "source": [
        "### Filter the words starting with ‘c’"
      ]
    },
    {
      "cell_type": "code",
      "execution_count": 88,
      "id": "gFmlnrU-9Kd5",
      "metadata": {
        "id": "gFmlnrU-9Kd5"
      },
      "outputs": [],
      "source": [
        "rddFileFilter2 = rddFileFilter.filter(lambda s : s.startswith('c'))"
      ]
    },
    {
      "cell_type": "code",
      "execution_count": 89,
      "id": "7_i3Q6bQ9_xV",
      "metadata": {
        "colab": {
          "base_uri": "https://localhost:8080/"
        },
        "id": "7_i3Q6bQ9_xV",
        "outputId": "bfbfe063-3fa2-4397-fbdc-5f4d3b28147e"
      },
      "outputs": [
        {
          "data": {
            "text/plain": [
              "['causa', 'consectetur', 'collatio', 'constructio']"
            ]
          },
          "execution_count": 89,
          "metadata": {},
          "output_type": "execute_result"
        }
      ],
      "source": [
        "rddFileFilter2.collect()"
      ]
    },
    {
      "cell_type": "markdown",
      "id": "eba39e2e",
      "metadata": {
        "id": "eba39e2e"
      },
      "source": [
        "### Reduce the data by key and sum it (use the data from the following list)"
      ]
    },
    {
      "cell_type": "code",
      "execution_count": 102,
      "id": "f26dea46",
      "metadata": {
        "id": "f26dea46"
      },
      "outputs": [],
      "source": [
        "list2 = [\n",
        "         ('JK', 22), ('V', 24), ('Jimin',24), ('RM', 25)\n",
        "        ,('J-Hope', 25), ('Suga', 26), ('Jin', 27)\n",
        "        ,('J-Hope', 12), ('Suga', 25), ('Jin', 34)\n",
        "        ,('JK', 32), ('V', 44), ('Jimin',14), ('RM', 35)\n",
        "       ]\n",
        "# Hint: use reduceByKey"
      ]
    },
    {
      "cell_type": "code",
      "execution_count": 109,
      "id": "B-UWURmkBuMu",
      "metadata": {
        "colab": {
          "base_uri": "https://localhost:8080/"
        },
        "id": "B-UWURmkBuMu",
        "outputId": "73ee0dcd-fd11-4fe5-d063-e5f802f98f40"
      },
      "outputs": [
        {
          "data": {
            "text/plain": [
              "[('JK', 22),\n",
              " ('V', 24),\n",
              " ('Jimin', 24),\n",
              " ('RM', 25),\n",
              " ('J-Hope', 25),\n",
              " ('Suga', 26),\n",
              " ('Jin', 27),\n",
              " ('J-Hope', 12),\n",
              " ('Suga', 25),\n",
              " ('Jin', 34),\n",
              " ('JK', 32),\n",
              " ('V', 44),\n",
              " ('Jimin', 14),\n",
              " ('RM', 35)]"
            ]
          },
          "execution_count": 109,
          "metadata": {},
          "output_type": "execute_result"
        }
      ],
      "source": [
        "list2"
      ]
    },
    {
      "cell_type": "code",
      "execution_count": 95,
      "id": "4qQJgGFI-tGh",
      "metadata": {
        "id": "4qQJgGFI-tGh"
      },
      "outputs": [],
      "source": [
        "rdd2 = sc.parallelize(list2)"
      ]
    },
    {
      "cell_type": "code",
      "execution_count": 123,
      "id": "25PCZ_Ie_Ok8",
      "metadata": {
        "id": "25PCZ_Ie_Ok8"
      },
      "outputs": [],
      "source": [
        "reduceRDD = rdd2.reduceByKey(lambda v1, v2: v1+v2)"
      ]
    },
    {
      "cell_type": "code",
      "execution_count": 124,
      "id": "ItmatZSLDhUC",
      "metadata": {
        "colab": {
          "base_uri": "https://localhost:8080/"
        },
        "id": "ItmatZSLDhUC",
        "outputId": "1b80a74a-7dfd-4196-ae59-e8dbdff4ed43"
      },
      "outputs": [
        {
          "data": {
            "text/plain": [
              "[('Suga', 51),\n",
              " ('Jin', 61),\n",
              " ('JK', 54),\n",
              " ('V', 68),\n",
              " ('Jimin', 38),\n",
              " ('RM', 60),\n",
              " ('J-Hope', 37)]"
            ]
          },
          "execution_count": 124,
          "metadata": {},
          "output_type": "execute_result"
        }
      ],
      "source": [
        "reduceRDD.collect()"
      ]
    },
    {
      "cell_type": "markdown",
      "id": "a4587230",
      "metadata": {
        "id": "a4587230"
      },
      "source": [
        "### Creat some key value pairs RDDs"
      ]
    },
    {
      "cell_type": "code",
      "execution_count": 118,
      "id": "cfb446ee",
      "metadata": {
        "id": "cfb446ee"
      },
      "outputs": [],
      "source": [
        "rdd3 = sc.parallelize([('a',2),('b',3)])\n",
        "rdd4 = sc.parallelize([('a',9),('b',7),('c',10)])"
      ]
    },
    {
      "cell_type": "markdown",
      "id": "98ec3168",
      "metadata": {
        "id": "98ec3168"
      },
      "source": [
        "### Perform Join operation on the RDDs (rdd1,rdd2)"
      ]
    },
    {
      "cell_type": "code",
      "execution_count": 121,
      "id": "5fc98e9f",
      "metadata": {
        "id": "5fc98e9f"
      },
      "outputs": [],
      "source": [
        "joinRDD = rdd3.join(rdd4)"
      ]
    },
    {
      "cell_type": "code",
      "execution_count": 122,
      "id": "6WS_0FtnDN9j",
      "metadata": {
        "colab": {
          "base_uri": "https://localhost:8080/"
        },
        "id": "6WS_0FtnDN9j",
        "outputId": "3390bd54-248a-4e1a-9e90-78a40bfa39dd"
      },
      "outputs": [
        {
          "data": {
            "text/plain": [
              "[('b', (3, 7)), ('a', (2, 9))]"
            ]
          },
          "execution_count": 122,
          "metadata": {},
          "output_type": "execute_result"
        }
      ],
      "source": [
        "joinRDD.collect()"
      ]
    },
    {
      "cell_type": "code",
      "execution_count": null,
      "id": "i50DO4D-DWow",
      "metadata": {
        "id": "i50DO4D-DWow"
      },
      "outputs": [],
      "source": []
    }
  ],
  "metadata": {
    "colab": {
      "name": "RDD_Operations.ipynb",
      "provenance": []
    },
    "kernelspec": {
      "display_name": "Python 3",
      "language": "python",
      "name": "python3"
    },
    "language_info": {
      "codemirror_mode": {
        "name": "ipython",
        "version": 3
      },
      "file_extension": ".py",
      "mimetype": "text/x-python",
      "name": "python",
      "nbconvert_exporter": "python",
      "pygments_lexer": "ipython3",
      "version": "3.8.8"
    }
  },
  "nbformat": 4,
  "nbformat_minor": 5
}
